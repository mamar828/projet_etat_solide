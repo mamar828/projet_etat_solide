{
 "cells": [
  {
   "cell_type": "code",
   "execution_count": 40,
   "metadata": {},
   "outputs": [],
   "source": [
    "import numpy as np\n",
    "import graphinglib as gl\n",
    "import uncertainties\n",
    "import uncertainties.unumpy as unp\n",
    "\n",
    "from typing import Self"
   ]
  },
  {
   "cell_type": "code",
   "execution_count": null,
   "metadata": {},
   "outputs": [],
   "source": [
    "class Micrograph:\n",
    "    def __init__(self, data: np.ndarray, index: int) -> Self:\n",
    "        self.data = data\n",
    "        self._index = index\n",
    "        self.fft = np.fft.fftshift(np.fft.fft2(data))\n",
    "        self.image_center = np.array(self.data.shape) / 2\n",
    "\n",
    "    @classmethod\n",
    "    def load(cls, filename: str) -> Self:\n",
    "        return cls(gl.Heatmap(filename).image, int(filename[-5]))\n",
    "    \n",
    "    @property\n",
    "    def data_plot(self) -> gl.Heatmap:\n",
    "        return gl.Heatmap(self.data, aspect_ratio=\"equal\", color_map=\"gray\", show_color_bar=False)\n",
    "\n",
    "    @property\n",
    "    def fft_plot(self) -> gl.Heatmap:\n",
    "        return gl.Heatmap(np.abs(self.fft), aspect_ratio=\"equal\", vmax=1e5, color_map=\"gray\", show_color_bar=False)\n",
    "\n",
    "    @property\n",
    "    def node_coordinates(self) -> np.ndarray:\n",
    "        match self._index:\n",
    "            case 1:\n",
    "                return np.array([\n",
    "                    [524, 844],\n",
    "                    [642, 555],\n",
    "                ])\n",
    "            case 2:\n",
    "                return np.array([\n",
    "                    [512.5, 734.5],\n",
    "                    [628, 477.5],\n",
    "                ])\n",
    "            case 3:\n",
    "                return np.array([\n",
    "                    [594, 747.5],\n",
    "                    [648.5, 526],\n",
    "                ])\n",
    "            case _:\n",
    "                raise ValueError(\"Unsupported index\")\n",
    "\n",
    "    @property\n",
    "    def vectors(self) -> np.ndarray:\n",
    "        return self.node_coordinates - self.image_center\n",
    "\n",
    "\n",
    "    @property\n",
    "    def fft_plane_distances(self) -> dict[str, uncertainties.core.Variable]:\n",
    "        h, k = (uncertainties.unumpy.uarray(self.vectors[i], [3,3]) for i in range(2))\n",
    "        return {\n",
    "            \"100\" : self.vector_norm(h),\n",
    "            \"010\" : self.vector_norm(k),\n",
    "            \"110\" : self.vector_norm(h+k),\n",
    "            \"1-10\" : self.vector_norm(h-k),\n",
    "        }\n",
    "\n",
    "    @property\n",
    "    def gl_arrows(self) -> list[gl.Arrow, gl.Text, gl.Arrow, gl.Text]:\n",
    "        n_coords = self.node_coordinates\n",
    "        c = self.image_center\n",
    "        return [\n",
    "            gl.Arrow(c, (n_coords[0,0], n_coords[0,1]), color=\"yellow\", width=2),\n",
    "            gl.Text((n_coords[0,0]-c[0])/2+c[0]+25, (n_coords[0,1]-c[1])/2+c[1], \"h\", color=\"yellow\"),\n",
    "            gl.Arrow(c, (n_coords[1,0], n_coords[1,1]), color=\"lime\", width=2),\n",
    "            gl.Text((n_coords[1,0]-c[0])/2+c[0], (n_coords[1,1]-c[1])/2+c[1]-25, \"k\", color=\"lime\"),\n",
    "        ]\n",
    "    \n",
    "    @staticmethod\n",
    "    def vector_norm(vector: np.ndarray) -> float:\n",
    "        return (sum(vector**2))**0.5"
   ]
  },
  {
   "cell_type": "code",
   "execution_count": 7,
   "metadata": {},
   "outputs": [
    {
     "name": "stderr",
     "output_type": "stream",
     "text": [
      "/Library/Frameworks/Python.framework/Versions/3.12/lib/python3.12/site-packages/graphinglib/figure.py:326: UserWarning: Axes on this figure have been removed.\n",
      "  warn(\"Axes on this figure have been removed.\")\n"
     ]
    }
   ],
   "source": [
    "%matplotlib tk\n",
    "# %matplotlib inline\n",
    "\n",
    "figs = []\n",
    "for i in range(1,4):\n",
    "    mg = Micrograph.load(f\"design/data/Micrographie_{i}.tif\")\n",
    "    fig = gl.Figure(size=(5, 5), figure_style=\"dark\", title=f\"Micrographie {i}\", remove_axes=True)\n",
    "    # fig.add_elements(mg.data_plot)\n",
    "    fig.add_elements(mg.fft_plot, *mg.gl_arrows)\n",
    "    figs.append(fig)\n",
    "    # fig.show()\n",
    "\n",
    "multifig = gl.MultiFigure.from_row(figs, size=(15, 5), figure_style=\"dark\")\n",
    "multifig.show()"
   ]
  },
  {
   "cell_type": "code",
   "execution_count": 4,
   "metadata": {},
   "outputs": [
    {
     "name": "stdout",
     "output_type": "stream",
     "text": [
      "Micrographie 1, 100 : 130.9+/-1.2 pm\n",
      "Micrographie 1, 010 : 318+/-7 pm\n",
      "Micrographie 1, 110 : 108.5+/-1.1 pm\n",
      "Micrographie 1, 1-10 : 139.3+/-1.9 pm\n",
      "\n",
      "Micrographie 2, 100 : 195.4+/-2.6 pm\n",
      "Micrographie 2, 010 : 359+/-9 pm\n",
      "Micrographie 2, 110 : 197+/-4 pm\n",
      "Micrographie 2, 1-10 : 154.3+/-2.3 pm\n",
      "\n",
      "Micrographie 3, 100 : 174.4+/-2.1 pm\n",
      "Micrographie 3, 010 : 317+/-7 pm\n",
      "Micrographie 3, 110 : 131.1+/-1.7 pm\n",
      "Micrographie 3, 1-10 : 190.6+/-3.5 pm\n",
      "\n"
     ]
    }
   ],
   "source": [
    "im_size = 1024\n",
    "px_res = 42.468     # picometers per pixel\n",
    "\n",
    "for i in range(1,4):\n",
    "    mg = Micrograph.load(f\"design/data/Micrographie_{i}.tif\")\n",
    "\n",
    "    for key, value in mg.fft_plane_distances.items():\n",
    "        print(f\"Micrographie {i}, {key} : {im_size/(value)*px_res} pm\")\n",
    "    print()"
   ]
  },
  {
   "cell_type": "markdown",
   "metadata": {},
   "source": [
    "### Distances"
   ]
  },
  {
   "cell_type": "code",
   "execution_count": null,
   "metadata": {},
   "outputs": [
    {
     "name": "stdout",
     "output_type": "stream",
     "text": [
      "\n",
      "Micrographie 1\n",
      "100 : 131 ± 2 pm\n",
      "010 : 318 ± 10 pm\n",
      "110 : 109 ± 1 pm\n",
      "1-10 : 140 ± 2 pm\n",
      "\n",
      "Micrographie 2\n",
      "100 : 193 ± 5 pm\n",
      "010 : 360 ± 21 pm\n",
      "110 : 194 ± 4 pm\n",
      "1-10 : 153 ± 3 pm\n",
      "\n",
      "Micrographie 3\n",
      "100 : 174 ± 3 pm\n",
      "010 : 318 ± 10 pm\n",
      "110 : 132 ± 2 pm\n",
      "1-10 : 191 ± 4 pm\n"
     ]
    }
   ],
   "source": [
    "mg_1 = unp.uarray([\n",
    "    [[np.nan,np.nan], [369.6,137.55], [499.5, 180.5], [629.5, 224.5], [np.nan,np.nan]],\n",
    "    [[253.1,426.3], [382.2,469.1], [512,512], [642,554.8], [771.4,597.7]],\n",
    "    [[np.nan,np.nan], [395.2,799.5], [524.4,843.5], [654.5,886.6], [np.nan,np.nan]],\n",
    "], np.full((3,5,2), 3))\n",
    "\n",
    "mg_2 = unp.uarray([\n",
    "    [[np.nan,np.nan], [np.nan,np.nan], [511.5,289.7], [627.5,250.5], [np.nan,np.nan]],\n",
    "    [[281.5,580.5], [386.6,545], [512,512], [628,477.7], [743.1,443.6]],\n",
    "    [[np.nan,np.nan], [396.5,773.6], [512.6,734.2], [np.nan,np.nan], [np.nan,np.nan]],\n",
    "], np.full((3,5,2), 3))\n",
    "\n",
    "mg_3 = unp.uarray([\n",
    "    [[np.nan,np.nan], [294,262.4], [430.4,276.5], [567.3,290.2], [700.5,303.6]],\n",
    "    [[240.6,485.7], [376.7,497.9], [512,512], [648.2,526], [783.6,538.4]],\n",
    "    [[323.7,720.6], [458.6,733.6], [594.1,747.5], [730.1,762], [np.nan,np.nan]],\n",
    "], np.full((3,5,2), 3))\n",
    "\n",
    "k = im_size*px_res\n",
    "\n",
    "for i, mg in enumerate([mg_1, mg_2, mg_3]):\n",
    "    print(f\"\\nMicrographie {i+1}\")\n",
    "\n",
    "    d_100 = k/np.array([Micrograph.vector_norm(mg[i,j]-mg[i+1,j]) for i, j in [[0,2],[0,3],[1,1],[1,2]]])\n",
    "    d_010 = k/np.array([Micrograph.vector_norm(mg[i,j]-mg[i,j+1]) for i, j in [[0,2],[1,0],[1,1],[1,2],[1,3],[2,1]]])\n",
    "    d_110 = k/np.array([Micrograph.vector_norm(mg[i,j]-mg[i+1,j+1]) for i, j in [[0,2],[0,3],[1,0],[1,1]]])\n",
    "    d_1bar10 = k/np.array([Micrograph.vector_norm(mg[i,j]-mg[i+1,j-1]) for i, j in [[0,2],[0,3],[1,2],[1,3]]])\n",
    "\n",
    "    for key, value in zip([\"100\", \"010\", \"110\", \"1-10\"], [d_100, d_010, d_110, d_1bar10]):\n",
    "        print(f\"{key} : {unp.nominal_values(value).mean():.0f} ± \"\n",
    "              f\"{np.sqrt(unp.std_devs(value)[0]**2 + unp.nominal_values(value).std()**2):.0f} pm\")"
   ]
  }
 ],
 "metadata": {
  "kernelspec": {
   "display_name": "Python 3",
   "language": "python",
   "name": "python3"
  },
  "language_info": {
   "codemirror_mode": {
    "name": "ipython",
    "version": 3
   },
   "file_extension": ".py",
   "mimetype": "text/x-python",
   "name": "python",
   "nbconvert_exporter": "python",
   "pygments_lexer": "ipython3",
   "version": "3.12.3"
  }
 },
 "nbformat": 4,
 "nbformat_minor": 2
}
