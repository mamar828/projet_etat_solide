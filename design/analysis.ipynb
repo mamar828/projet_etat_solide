{
 "cells": [
  {
   "cell_type": "code",
   "execution_count": null,
   "metadata": {},
   "outputs": [],
   "source": [
    "import numpy as np\n",
    "import graphinglib as gl"
   ]
  },
  {
   "cell_type": "code",
   "execution_count": null,
   "metadata": {},
   "outputs": [],
   "source": [
    "for i in range(1, 4):\n",
    "    hm = gl.Heatmap(f\"design/data/Micrographie_{i}.tif\", color_map=\"gray\")\n",
    "    data = hm.image\n",
    "    fft = np.fft.fft2(data)\n",
    "    fft_shift = np.fft.fftshift(fft)\n",
    "\n",
    "    # Plot the fft of the image\n",
    "    fig = gl.Figure()\n",
    "    fig.add_elements(gl.Heatmap(np.abs(fft_shift)))\n",
    "    fig.show()"
   ]
  },
  {
   "cell_type": "code",
   "execution_count": null,
   "metadata": {},
   "outputs": [],
   "source": []
  }
 ],
 "metadata": {
  "kernelspec": {
   "display_name": "Python 3",
   "language": "python",
   "name": "python3"
  },
  "language_info": {
   "codemirror_mode": {
    "name": "ipython",
    "version": 3
   },
   "file_extension": ".py",
   "mimetype": "text/x-python",
   "name": "python",
   "nbconvert_exporter": "python",
   "pygments_lexer": "ipython3",
   "version": "3.12.3"
  }
 },
 "nbformat": 4,
 "nbformat_minor": 2
}
