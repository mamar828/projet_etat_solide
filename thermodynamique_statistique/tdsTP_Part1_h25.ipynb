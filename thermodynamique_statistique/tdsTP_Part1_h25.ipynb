{
 "cells": [
  {
   "cell_type": "markdown",
   "metadata": {},
   "source": [
    "<h1 style=\"text-align:center\">Travail pratique numérique en thermodynamique statistique</h1>\n",
    "<h2 style=\"text-align:center\">PARTIE 1 : Cinétique des gaz parfaits</h2>\n",
    "\n",
    "Veuillez indiquer le nom des membres de votre équipe dans la cellule suivante."
   ]
  },
  {
   "cell_type": "markdown",
   "metadata": {},
   "source": [
    "**Équipe des écureuils volants** :\n",
    "\n",
    "Félix Desroches, Anabelle Dompierre Dauphin, Camille Lessard et Mathieu Marquis"
   ]
  },
  {
   "cell_type": "markdown",
   "metadata": {
    "nteract": {
     "transient": {
      "deleting": false
     }
    }
   },
   "source": [
    "# Introduction #\n",
    "Ce travail révise d'abord quelques bases générales de mécanique statistique classique avec le script `tds2Danimation_hXX.py` qui simule la théorie cinétique des gaz parfaits en 2D. Cette simulation utilise le concept de sphères dures, mais ici pour le cas des particules d'un gaz afin d'introduire des collisions élastiques entre elles sur leur trajectoire ballistique. Notez qu'une sphère est colorée et grossie seulement pour l’effet visuel dans l'animation, la physique de l’algorithme codé considère bien des particules totalement identiques. Les questions sur cette simulation, à répondre directement dans les cellules du carnet _(Notebook)_ ici-même, explorent quelques paramètres de la thermodynamique statistique et introduisent de nouveaux termes utiles à l'étude du mouvement des électrons dans la matière.\n",
    "\n",
    "_N.B._ \n",
    "- _Pour montrer les animations à l'écran, le script `tds2Danimation_hXX.py` importe la librairie `VPython` qu'il faut donc installer. Des liens vers sa documentation et de l'information complémentaire sont donnés dans la médiagraphie à la fin._\n",
    "- _Le code dans ce script est abusivement commenté dans notre contexte pédagogique, mais il serait bien sûr préférable de s’en tenir aux recommandations du <a href=\"https://www.python.org/dev/peps/pep-0008\"> PEP 8 — Style Guide for Python Code</a>._\n",
    "- _Notez finalement que la boucle principale à la fin du script laisse l'utilisateur voir l'animation aussi longtemps que souhaité, assurez-vous donc de savoir comment l'interrompre correctement avant de lancer la simulation ou de la remplacer par une boucle `for`._"
   ]
  },
  {
   "cell_type": "markdown",
   "metadata": {
    "nteract": {
     "transient": {
      "deleting": false
     }
    }
   },
   "source": [
    "# 1<sup>re</sup> partie - Cinétique CLASSIQUE des gaz parfaits #"
   ]
  },
  {
   "cell_type": "markdown",
   "metadata": {
    "nteract": {
     "transient": {
      "deleting": false
     }
    }
   },
   "source": [
    "### Simulation 2D ###"
   ]
  },
  {
   "cell_type": "code",
   "execution_count": null,
   "metadata": {},
   "outputs": [],
   "source": [
    "# %run thermodynamique_statistique/tds2Danimation_h25.py\n",
    "import numpy as np\n",
    "import graphinglib as gl\n",
    "\n",
    "DIM = 2 # Nombre de degrés de liberté de la simulation \n",
    "mass = 4E-3/6E23 # helium mass\n",
    "k = 1.4E-23 # Boltzmann constant\n",
    "targeted_particle = np.loadtxt(\"thermodynamique_statistique/data/part_1_targeted_particle.csv\", delimiter=\",\")\n",
    "p_squared_norm = np.loadtxt(\"thermodynamique_statistique/data/part_1_p_squared_norm.csv\", delimiter=\",\")"
   ]
  },
  {
   "cell_type": "markdown",
   "metadata": {},
   "source": [
    "### Questions statistiques ###"
   ]
  },
  {
   "cell_type": "markdown",
   "metadata": {},
   "source": [
    "**I.** _(3 points)_  &mdash; Utilisez la liste finale des vecteurs de quantité de mouvement $\\vec{p}$ de toutes les sphères pour calculer la moyenne de son carré $\\langle p^2\\rangle=\\langle\\vec{p}\\cdot\\vec{p}\\rangle$ en écrivant le code nécessaire dans la cellule qui suit. "
   ]
  },
  {
   "cell_type": "code",
   "execution_count": null,
   "metadata": {},
   "outputs": [],
   "source": [
    "# Calcul de la moyenne de p² QUESTION 1\n",
    "p2_avg = np.average(p_squared_norm)\n",
    "\n",
    "print(f\"⟨p²⟩ = {p2_avg} kg²·m²/s²\")"
   ]
  },
  {
   "cell_type": "markdown",
   "metadata": {},
   "source": [
    "\n",
    "**II.** _(2 points)_  &mdash; La température $T$ (macroscopique) est proportionnelle à l'énergie cinétique moyenne $E_{cin}$ de l'ensemble des particules lorsque ce système est rendu à l'équilibre. Celle-ci peut se calculer classiquement selon son <a href=\"https://fr.wikipedia.org/wiki/%C3%89quipartition_de_l%27%C3%A9nergie\">principe d'équipartition</a>, _i.e._ en répartissant l'énergie également sur chaque degré de liberté ici en translation seulement d'où, au total pour $\\text{DIM}=1,2\\text{ ou } 3$ dimensions d'espace réel,\n",
    "\\begin{equation}\n",
    "E_{cin}=\\frac{\\langle p^2 \\rangle}{2m}=\\text{DIM}\\times\\frac{1}{2}k_BT\n",
    "\\end{equation}\n",
    "avec $k_B$, la constante de Boltzmann et $m$, la masse de chaque particule. Quelle est la température du gaz de sphères dures à la fin de la simulation? Est-ce qu'elle a changé significativement par rapport à sa valeur initiale?"
   ]
  },
  {
   "cell_type": "code",
   "execution_count": null,
   "metadata": {},
   "outputs": [],
   "source": [
    "# Température du gaz de *SPHÈRES DURES* à la fin de la simulation QUESTION 2\n",
    "T_gaz = p2_avg / (DIM * k * mass)\n",
    "\n",
    "print(f\"La température simulée T={T_gaz:.2f} K n'a pas variée significativement relativement à la valeur initiale\")"
   ]
  },
  {
   "cell_type": "markdown",
   "metadata": {
    "nteract": {
     "transient": {
      "deleting": false
     }
    }
   },
   "source": [
    "**III.** _(10 points)_ &mdash; Modifiez le code de la simulation pour ajouter une fonction qui suit la trajectoire d'UNE SEULE particule, c'est-à-dire qu'elle doit enregistrer, dans une liste, des valeurs de variables pour cette particule et ce, à chacune de ses collisions avec une autre particule (_i.e._ excluez les collisions avec les parois de la boîte). Les deux variables scalaires à lister sont:\n",
    "- la distance que la particule a parcouru entre chaque collision,\n",
    "- le temps écoulé entre ces collisions.\n",
    "\n",
    "Copiez le code de votre fonction dans la cellule qui suit en y commentant clairement les variables pour ces listes qui devront persister après avoir interrompu l'exécution de la simulation. N'oubliez pas d'inclure votre fichier Python (`.py`) modifié avec la simulation complète lors de la remise."
   ]
  },
  {
   "cell_type": "code",
   "execution_count": null,
   "metadata": {
    "nteract": {
     "transient": {
      "deleting": false
     }
    }
   },
   "outputs": [],
   "source": [
    "target_part_i = 0 # index of the particle whose displacement will be saved at each colision\n",
    "target_part = np.zeros((1,4)) # starting array to save the targeted particle's displacement\n",
    "def follow_particle():\n",
    "    global target_part, targeted_particle_index, p\n",
    "    target_part = np.vstack((\n",
    "        target_part, \n",
    "        np.array(\n",
    "            [mass, p[target_part_i].x, p[target_part_i].y, p[target_part_i].z]\n",
    "        ) / mass * (step*dt-target_part[:,0].sum())\n",
    "    ))\n",
    "    # La variable target_part doit persister après la simulation puisqu'elle contient l'ensemble des distances\n",
    "    # parcourues et le temps entre chaque collision"
   ]
  },
  {
   "cell_type": "markdown",
   "metadata": {
    "nteract": {
     "transient": {
      "deleting": false
     }
    }
   },
   "source": [
    "**IV.** _(2 points)_ &mdash; Calculez le **libre parcours moyen** $l_{moy}$ et le **temps de collision** $\\tau$ qui sont les valeurs moyennes des deux listes compilées au numéro précédent.\n",
    "\n",
    "_(Pour votre information, le libre parcours moyen est de l’ordre de 100 nm dans l'air à température et pression ambiantes, mais_ $l_{moy}$ _peut dépasser 100 000 km dans une enceinte sous vide avec les technologies de pompes modernes!)_\n",
    "\n"
   ]
  },
  {
   "cell_type": "code",
   "execution_count": null,
   "metadata": {
    "nteract": {
     "transient": {
      "deleting": false
     }
    }
   },
   "outputs": [],
   "source": [
    "tau = np.average(targeted_particle[:, 0])\n",
    "lmoy = np.average(np.linalg.norm(targeted_particle[:, 1:], axis=1))\n",
    "print(f\"Le temps de collision est τ={tau:.5f} et le libre parcours moyen est l_moy=\"+f\"{lmoy:.5f}\")"
   ]
  },
  {
   "cell_type": "markdown",
   "metadata": {
    "nteract": {
     "transient": {
      "deleting": false
     }
    }
   },
   "source": [
    "**V.** _(2 points)_ Calculez la vitesse $\\vec{v}$ de la particule entre chaque paire de collisions. Quelle est la vitesse moyenne $\\langle\\vec{v}\\rangle$ de la particule?"
   ]
  },
  {
   "cell_type": "code",
   "execution_count": null,
   "metadata": {
    "nteract": {
     "transient": {
      "deleting": false
     }
    }
   },
   "outputs": [],
   "source": [
    "v_array = targeted_particle[:, 1:]/np.expand_dims(targeted_particle[:,0], 1)\n",
    "vmoy = np.average(v_array, axis=0)\n",
    "print(f\"La vitesse moyenne de la particule entre les collisions est v_moy={vmoy}\")\n",
    "print(\"La vitesse de la particule entre chaque paire de collisions est :\")\n",
    "print(v_array)"
   ]
  },
  {
   "cell_type": "markdown",
   "metadata": {
    "nteract": {
     "transient": {
      "deleting": false
     }
    }
   },
   "source": [
    "**VI.** _(5 points)_ &mdash; Pour cette même liste de vitesses, comparez les distributions de la norme $||\\vec{v}||$, du carré $v^2$ et d’une de ses composantes $v_x^2$ en étalonnant l’abscisse pour contraster les histogrammes avec une échelle appropriée. Indiquez sur ce graphique la moyenne, le mode, la médiane et la moyenne quadratique des distributions."
   ]
  },
  {
   "cell_type": "code",
   "execution_count": null,
   "metadata": {
    "nteract": {
     "transient": {
      "deleting": false
     }
    }
   },
   "outputs": [],
   "source": [
    "v_norm = np.linalg.norm(v_array, axis=1)\n",
    "v_norm_squared = v_norm**2\n",
    "v_x_squared = v_array[:, 0]**2\n",
    "find_stats = lambda h: [h.mean, np.median(h.data), np.sqrt(np.mean(h.data**2)), h.bin_centers[np.argmax(np.histogram(h.data)[0])]]\n",
    "\n",
    "v_norm_fig = gl.Figure(y_label=\"Nombre de comptes [-]\", x_label=\"Norme de la vitesse [u. arb.]\")\n",
    "v_norm_squared_fig = gl.Figure(x_label=\"Norme au carré de la vitesse [u. arb.$^2$]\")\n",
    "v_x_squared_fig = gl.Figure(x_label=\"Carré de la vitesse en x [u. arb.$^2$]\")\n",
    "\n",
    "fig_list = [v_norm_fig, v_norm_squared_fig, v_x_squared_fig]\n",
    "for i, array in enumerate([v_norm, v_norm_squared, v_x_squared]):\n",
    "    hist = gl.Histogram(array, number_of_bins=10, normalize=False, show_params=False)\n",
    "    vlines = gl.Vlines(find_stats(hist), y_min=0, y_max=1.1*max(np.histogram(array, bins=10)[0]),\n",
    "                       line_styles=[\"-\", \"--\", \"-.\", \":\"], line_widths=[1.5])\n",
    "    fig_list[i].add_elements(hist, vlines)\n",
    "    print(f\"{fig_list[i].x_axis_name} : moyenne={vlines.x[0]}, médiane={vlines.x[1]}, rms={vlines.x[2]}, mode={vlines.x[3]}\")\n",
    "\n",
    "multifig = gl.MultiFigure.from_row(fig_list, size=(14,4))\n",
    "multifig.show()\n"
   ]
  },
  {
   "cell_type": "markdown",
   "metadata": {},
   "source": [
    "Dans les graphiques précédentes, les lignes pleines représentent la moyenne, les lignes en tiret représentent les médianes, les lignes en points et tirets représentent la moyenne quadratique et les lignes pointillées représentent les modes."
   ]
  },
  {
   "cell_type": "markdown",
   "metadata": {},
   "source": [
    "**Bonus.** _(4 points)_ &mdash; Montrez que \n",
    "- (a) le théorème central limite est satisfait par une des distributions de vitesse du numéro précédent,\n",
    "- (b) le système simulé est ergodique."
   ]
  },
  {
   "cell_type": "markdown",
   "metadata": {},
   "source": [
    "a) Le théorème central limite est satisfait pour la distribution des normes de la vitesse tel que visualisé par la régression d'une distribution gausienne sur cette dernière.\n",
    "\n",
    "\n",
    "b) La très grande similarité entre la distribution des vitesses de plusieurs particules à un temps donné et la distribution des vitesses d'une seule particule à plusieurs moments montre qu'il est possible de subdiviser le système en petites parties afin d'obtenir une moyenne statistique équivalente à une moyenne sur un grand nombre de mesures. Ainsi, la similarité des distributions et de leurs moyennes montre l'ergodicité du système simulé."
   ]
  },
  {
   "cell_type": "code",
   "execution_count": null,
   "metadata": {
    "nteract": {
     "transient": {
      "deleting": false
     }
    }
   },
   "outputs": [],
   "source": [
    "gaussian_fig = gl.Figure(y_label=\"Nombre de comptes [-]\", x_label=\"Norme de la vitesse [u. arb.]\")\n",
    "gaussian_hist = gl.Histogram(v_norm, number_of_bins=25, normalize=False, show_params=False)\n",
    "gaussian_hist.add_pdf()\n",
    "gaussian_fig.add_elements(gaussian_hist)\n",
    "gaussian_fig.show()\n",
    "\n",
    "t_cst_v_norm = np.sqrt(p_squared_norm)/mass\n",
    "many_particles_fig = gl.Figure(y_label=\"Nombre de comptes [-]\",\n",
    "                               x_label=\"Norme de la vitesse de plusieurs particules à un temps donné [u. arb.]\")\n",
    "many_times_fig = gl.Figure(x_label=\"Norme de la vitesse d'une particule à plusieurs moments[u. arb.]\")\n",
    "\n",
    "fig_list = [many_particles_fig, many_times_fig]\n",
    "for i, array in enumerate([v_norm, t_cst_v_norm]):\n",
    "    hist = gl.Histogram(array, number_of_bins=10, normalize=False, show_params=False)\n",
    "    fig_list[i].add_elements(hist, gl.Vlines([np.mean(array)], y_min=0, y_max=1.1*max(np.histogram(array, bins=10)[0])))\n",
    "\n",
    "multifig = gl.MultiFigure.from_row([many_particles_fig, many_times_fig], size=(14,4))\n",
    "multifig.show()"
   ]
  },
  {
   "cell_type": "markdown",
   "metadata": {
    "nteract": {
     "transient": {
      "deleting": false
     }
    }
   },
   "source": [
    "# Médiagraphie #\n",
    " - La simulation utilise la librairie <a href=\"https://vpython.org\">VPython</a> conçue pour la visualisation de physique en 3D, avec les instructions d’installation <a href=\"https://vpython.org/presentation2018/install.html\">ici</a> et la documentation <a href=\"https://www.glowscript.org/docs/VPythonDocs/index.html\">ici</a>. Le script fourni qui est exécuté dans ce _Notebook_ adapte en 2D et commente en détail l’exemple <a href=\"https://www.glowscript.org/#/user/GlowScriptDemos/folder/Examples/program/HardSphereGas-VPython\">HardSphereGas-VPython</a> du site interactif <a href=\"https://www.glowscript.org\">GlowScript</a> pour programmer des animations avec VPython directement en ligne.\n",
    " \n",
    "_**N.B. de débogage VPython:** Ayant plus codé en MATLAB qu'en Python jusqu'à maintenant, j'utilise Spyder qui offre une interface similaire, mais j'ai trouvé ce vidéo qui parle d'une <a href=\"https://www.youtube.com/watch?v=MJiVtz4Uj7M\">installation VS code</a> qui peut-être aider? N'hésitez pas à partager de meilleures alternatives que j'ajouterai ici. Vous pouvez aussi tenter l'installation <a href=\"https://jakevdp.github.io/blog/2017/12/05/installing-python-packages-from-jupyter/\">directement dans le Notebook</a>, mais au final chaque installation de distribution Python a son lot de <a href=\"https://xkcd.com/2347/\">défis avec les dépendances</a>. Si rien ne fonctionne, n'hésitez pas à contacter la sympathique communauté qui développe et utilise cette librairie VPython d'abord via leur <a href=\"https://groups.google.com/g/vpython-users\">groupe-forum</a>, puis leur <a href=\"https://github.com/vpython/vpython-jupyter\">site GitHub</a> de dépôt de développement. J'ai toujours eu de bonnes expériences d'interaction avec eux!_ \n",
    " "
   ]
  }
 ],
 "metadata": {
  "kernelspec": {
   "display_name": "Python 3",
   "language": "python",
   "name": "python3"
  },
  "language_info": {
   "codemirror_mode": {
    "name": "ipython",
    "version": 3
   },
   "file_extension": ".py",
   "mimetype": "text/x-python",
   "name": "python",
   "nbconvert_exporter": "python",
   "pygments_lexer": "ipython3",
   "version": "3.12.3"
  }
 },
 "nbformat": 4,
 "nbformat_minor": 4
}
