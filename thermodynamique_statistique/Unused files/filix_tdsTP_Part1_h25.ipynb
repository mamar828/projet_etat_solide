{
 "cells": [
  {
   "cell_type": "markdown",
   "metadata": {},
   "source": [
    "<h1 style=\"text-align:center\">Travail pratique numérique en thermodynamique statistique</h1>\n",
    "<h2 style=\"text-align:center\">PARTIE 1 : Cinétique des gaz parfaits</h2>\n",
    "\n",
    "Veuillez indiquer le nom des membres de votre équipe dans la cellule suivante."
   ]
  },
  {
   "cell_type": "markdown",
   "metadata": {},
   "source": []
  },
  {
   "cell_type": "markdown",
   "metadata": {
    "nteract": {
     "transient": {
      "deleting": false
     }
    }
   },
   "source": [
    "# Introduction #\n",
    "Ce travail révise d'abord quelques bases générales de mécanique statistique classique avec le script `tds2Danimation_hXX.py` qui simule la théorie cinétique des gaz parfaits en 2D. Cette simulation utilise le concept de sphères dures, mais ici pour le cas des particules d'un gaz afin d'introduire des collisions élastiques entre elles sur leur trajectoire ballistique. Notez qu'une sphère est colorée et grossie seulement pour l’effet visuel dans l'animation, la physique de l’algorithme codé considère bien des particules totalement identiques. Les questions sur cette simulation, à répondre directement dans les cellules du carnet _(Notebook)_ ici-même, explorent quelques paramètres de la thermodynamique statistique et introduisent de nouveaux termes utiles à l'étude du mouvement des électrons dans la matière.\n",
    "\n",
    "_N.B._ \n",
    "- _Pour montrer les animations à l'écran, le script `tds2Danimation_hXX.py` importe la librairie `VPython` qu'il faut donc installer. Des liens vers sa documentation et de l'information complémentaire sont donnés dans la médiagraphie à la fin._\n",
    "- _Le code dans ce script est abusivement commenté dans notre contexte pédagogique, mais il serait bien sûr préférable de s’en tenir aux recommandations du <a href=\"https://www.python.org/dev/peps/pep-0008\"> PEP 8 — Style Guide for Python Code</a>._\n",
    "- _Notez finalement que la boucle principale à la fin du script laisse l'utilisateur voir l'animation aussi longtemps que souhaité, assurez-vous donc de savoir comment l'interrompre correctement avant de lancer la simulation ou de la remplacer par une boucle `for`._"
   ]
  },
  {
   "cell_type": "markdown",
   "metadata": {
    "nteract": {
     "transient": {
      "deleting": false
     }
    }
   },
   "source": [
    "# 1<sup>re</sup> partie - Cinétique CLASSIQUE des gaz parfaits #"
   ]
  },
  {
   "cell_type": "markdown",
   "metadata": {
    "nteract": {
     "transient": {
      "deleting": false
     }
    }
   },
   "source": [
    "### Simulation 2D ###"
   ]
  },
  {
   "cell_type": "code",
   "execution_count": 164,
   "metadata": {},
   "outputs": [],
   "source": [
    "%run /Users/felixdesroches/Documents/projet_etat_solide/projet_etat_solide/thermodynamique_statistique/code_fonctionnel.py"
   ]
  },
  {
   "cell_type": "markdown",
   "metadata": {},
   "source": [
    "### Questions statistiques ###"
   ]
  },
  {
   "cell_type": "markdown",
   "metadata": {},
   "source": [
    "**I.** _(3 points)_  &mdash; Utilisez la liste finale des vecteurs de quantité de mouvement $\\vec{p}$ de toutes les sphères pour calculer la moyenne de son carré $\\langle p^2\\rangle=\\langle\\vec{p}\\cdot\\vec{p}\\rangle$ en écrivant le code nécessaire dans la cellule qui suit. "
   ]
  },
  {
   "cell_type": "code",
   "execution_count": 148,
   "metadata": {},
   "outputs": [
    {
     "name": "stdout",
     "output_type": "stream",
     "text": [
      "5.600000000000003e-47\n"
     ]
    }
   ],
   "source": [
    "squared_p_norm=np.average(np.sum(p**2,1))\n",
    "print(squared_p_norm)"
   ]
  },
  {
   "cell_type": "markdown",
   "metadata": {},
   "source": [
    "\n",
    "**II.** _(2 points)_  &mdash; La température $T$ (macroscopique) est proportionnelle à l'énergie cinétique moyenne $E_{cin}$ de l'ensemble des particules lorsque ce système est rendu à l'équilibre. Celle-ci peut se calculer classiquement selon son <a href=\"https://fr.wikipedia.org/wiki/%C3%89quipartition_de_l%27%C3%A9nergie\">principe d'équipartition</a>, _i.e._ en répartissant l'énergie également sur chaque degré de liberté ici en translation seulement d'où, au total pour $\\text{DIM}=1,2\\text{ ou } 3$ dimensions d'espace réel,\n",
    "\\begin{equation}\n",
    "E_{cin}=\\frac{\\langle p^2 \\rangle}{2m}=\\text{DIM}\\times\\frac{1}{2}k_BT\n",
    "\\end{equation}\n",
    "avec $k_B$, la constante de Boltzmann et $m$, la masse de chaque particule. Quelle est la température du gaz de sphères dures à la fin de la simulation? Est-ce qu'elle a changé significativement par rapport à sa valeur initiale?"
   ]
  },
  {
   "cell_type": "code",
   "execution_count": 149,
   "metadata": {},
   "outputs": [
    {
     "name": "stdout",
     "output_type": "stream",
     "text": [
      "La température T=300.0 est conservée à une variation négligeable (5.684e-14%) près\n"
     ]
    }
   ],
   "source": [
    "T_f = squared_p_norm/(mass*k_B*n_dim)\n",
    "print(f\"La température T={T_f:.4} est conservée à une variation négligeable ({(T_f-T)/T*100:.4}%) près\")"
   ]
  },
  {
   "cell_type": "markdown",
   "metadata": {
    "nteract": {
     "transient": {
      "deleting": false
     }
    }
   },
   "source": [
    "**III.** _(10 points)_ &mdash; Modifiez le code de la simulation pour ajouter une fonction qui suit la trajectoire d'UNE SEULE particule, c'est-à-dire qu'elle doit enregistrer, dans une liste, des valeurs de variables pour cette particule et ce, à chacune de ses collisions avec une autre particule (_i.e._ excluez les collisions avec les parois de la boîte). Les deux variables scalaires à lister sont:\n",
    "- la distance que la particule a parcouru entre chaque collision,\n",
    "- le temps écoulé entre ces collisions.\n",
    "\n",
    "Copiez le code de votre fonction dans la cellule qui suit en y commentant clairement les variables pour ces listes qui devront persister après avoir interrompu l'exécution de la simulation. N'oubliez pas d'inclure votre fichier Python (`.py`) modifié avec la simulation complète lors de la remise."
   ]
  },
  {
   "cell_type": "code",
   "execution_count": 4,
   "metadata": {
    "nteract": {
     "transient": {
      "deleting": false
     }
    }
   },
   "outputs": [],
   "source": [
    "# def follow_particle(data, particle_index, time, clean=False):\n",
    "#     if np.all(data[-1,:] == np.array([[0, 0, 0, 0]])):\n",
    "#         data =  np.expand_dims(np.concatenate((np.array([time]), pos[particle_index])), axis=0)\n",
    "#     else:\n",
    "#         data[-1, :] = np.array([time-data[-1, 0], np.sqrt(np.sum((pos[particle_index] - data[-1, 1:])**2)), 0, 0])\n",
    "#         data =  np.concatenate(\n",
    "#             (data, np.expand_dims(np.concatenate((np.array([time]), pos[particle_index])), axis=0)),\n",
    "#             0\n",
    "#         )\n",
    "#     if clean:\n",
    "#         data = data[:-1, :2]\n",
    "#     return data\n",
    "# L'objet data, nommé targeted_particle dans le reste du code, est un array (N_intéractions, 4) qui contient les informations\n",
    "# désirées. Une fois la fonction appelée avec clean=True, le résultat est un array (N_intéractions-1, 2) où les colonnes\n",
    "# sont respectivement le temps entre les interactions et la distance parcourue entre les interactions."
   ]
  },
  {
   "cell_type": "markdown",
   "metadata": {
    "nteract": {
     "transient": {
      "deleting": false
     }
    }
   },
   "source": [
    "**IV.** _(2 points)_ &mdash; Calculez le **libre parcours moyen** $l_{moy}$ et le **temps de collision** $\\tau$ qui sont les valeurs moyennes des deux listes compilées au numéro précédent.\n",
    "\n",
    "_(Pour votre information, le libre parcours moyen est de l’ordre de 100 nm dans l'air à température et pression ambiantes, mais_ $l_{moy}$ _peut dépasser 100 000 km dans une enceinte sous vide avec les technologies de pompes modernes!)_\n",
    "\n"
   ]
  },
  {
   "cell_type": "code",
   "execution_count": 179,
   "metadata": {
    "nteract": {
     "transient": {
      "deleting": false
     }
    }
   },
   "outputs": [
    {
     "name": "stdout",
     "output_type": "stream",
     "text": [
      "Le temps de collision est τ=0.01299 et le libre parcours moyen est l_moy=20.09925\n"
     ]
    }
   ],
   "source": [
    "tau = np.average(targeted_particle[:, 0])\n",
    "lmoy = np.average(np.linalg.norm(targeted_particle[:, 1:], axis=1))\n",
    "print(f\"Le temps de collision est τ={tau:.5f} et le libre parcours moyen est l_moy=\"+f\"{lmoy:.5f}\")"
   ]
  },
  {
   "cell_type": "markdown",
   "metadata": {
    "nteract": {
     "transient": {
      "deleting": false
     }
    }
   },
   "source": [
    "**V.** _(2 points)_ Calculez la vitesse $\\vec{v}$ de la particule entre chaque paire de collisions. Quelle est la vitesse moyenne $\\langle\\vec{v}\\rangle$ de la particule?"
   ]
  },
  {
   "cell_type": "code",
   "execution_count": null,
   "metadata": {
    "nteract": {
     "transient": {
      "deleting": false
     }
    }
   },
   "outputs": [
    {
     "name": "stdout",
     "output_type": "stream",
     "text": [
      "[[-1173.25133195   177.05681484     0.        ]\n",
      " [-1173.25133195   177.05681484     0.        ]\n",
      " [-1173.25133195   177.05681484     0.        ]\n",
      " [-1173.25133195   177.05681484     0.        ]\n",
      " [-1340.83810307  -192.47621211     0.        ]\n",
      " [-1340.83810307  -192.47621211     0.        ]\n",
      " [-1340.83810307  -192.47621211     0.        ]\n",
      " [ 1340.83810307  -192.47621211     0.        ]\n",
      " [ 1340.83810307  -192.47621211     0.        ]\n",
      " [ 1340.83810307  -192.47621211     0.        ]\n",
      " [ 1340.83810307  -192.47621211     0.        ]\n",
      " [ 1340.83810307  -192.47621211     0.        ]\n",
      " [ 1340.83810307  -192.47621211     0.        ]\n",
      " [ 1340.83810307  -192.47621211     0.        ]\n",
      " [ 1340.83810307  -192.47621211     0.        ]\n",
      " [ 1340.83810307   192.47621211     0.        ]\n",
      " [-1340.83810307   192.47621211     0.        ]\n",
      " [-1340.83810307   192.47621211     0.        ]\n",
      " [ -838.77039396   779.91374389     0.        ]\n",
      " [ -838.77039396   779.91374389     0.        ]\n",
      " [ -838.77039396   779.91374389     0.        ]\n",
      " [ -467.59990158   510.95548853     0.        ]\n",
      " [ -467.59990158   510.95548853     0.        ]\n",
      " [ -467.59990158   510.95548853     0.        ]\n",
      " [ -467.59990158   510.95548853     0.        ]\n",
      " [ -467.59990158   510.95548853     0.        ]\n",
      " [  321.43481301   911.71336837     0.        ]\n",
      " [ -652.57133654   403.50752318     0.        ]\n",
      " [ -652.57133654   403.50752318     0.        ]\n",
      " [ -652.57133654   403.50752318     0.        ]\n",
      " [ -652.57133654   403.50752318     0.        ]\n",
      " [ 1191.09035915  -581.03166773     0.        ]\n",
      " [  462.99166837  1288.86266609     0.        ]\n",
      " [  462.99166837  1288.86266609     0.        ]\n",
      " [  462.99166837  1288.86266609     0.        ]\n",
      " [  462.99166837  1288.86266609     0.        ]\n",
      " [  462.99166837  1288.86266609     0.        ]\n",
      " [ -620.81436969  1331.8966294      0.        ]\n",
      " [ -620.81436969  1331.8966294      0.        ]\n",
      " [ -620.81436969  1331.8966294      0.        ]\n",
      " [ -620.81436969  1331.8966294      0.        ]\n",
      " [ -620.81436969  1331.8966294      0.        ]\n",
      " [ -620.81436969 -1331.8966294      0.        ]\n",
      " [ -620.81436969 -1331.8966294      0.        ]\n",
      " [ -620.81436969 -1331.8966294      0.        ]\n",
      " [   -8.9786602   -199.57986822     0.        ]\n",
      " [  175.05847433  -847.33469719     0.        ]\n",
      " [  175.05847433  -847.33469719     0.        ]\n",
      " [  175.05847433  -847.33469719     0.        ]\n",
      " [  175.05847433  -847.33469719     0.        ]\n",
      " [  175.05847433  -847.33469719     0.        ]\n",
      " [  175.05847433  -847.33469719     0.        ]\n",
      " [  175.05847433  -847.33469719     0.        ]\n",
      " [  175.05847433  -847.33469719     0.        ]\n",
      " [ -695.10426534    21.5972663      0.        ]\n",
      " [ -695.10426534    21.5972663      0.        ]\n",
      " [ -695.10426534    21.5972663      0.        ]\n",
      " [ -695.10426534    21.5972663      0.        ]\n",
      " [ -671.18413146   205.84310171     0.        ]\n",
      " [ -671.18413146   205.84310171     0.        ]\n",
      " [ -271.13552307  -500.47133061     0.        ]\n",
      " [ -271.13552307  -500.47133061     0.        ]\n",
      " [ -271.13552307  -500.47133061     0.        ]\n",
      " [ -271.13552307  -500.47133061     0.        ]\n",
      " [ -271.13552307  -500.47133061     0.        ]\n",
      " [ -324.09058302  -183.3095446      0.        ]\n",
      " [ -324.09058302  -183.3095446      0.        ]\n",
      " [ -324.09058302  -183.3095446      0.        ]\n",
      " [ -324.09058302  -183.3095446      0.        ]\n",
      " [ -324.09058302  -183.3095446      0.        ]\n",
      " [ -324.09058302  -183.3095446      0.        ]\n",
      " [ -324.09058302  -183.3095446      0.        ]\n",
      " [ 1630.96288473   861.56336751     0.        ]\n",
      " [ 1630.96288473   861.56336751     0.        ]\n",
      " [ 1630.96288473   861.56336751     0.        ]\n",
      " [-1490.20727202   944.46298616     0.        ]\n",
      " [-1490.20727202   944.46298616     0.        ]\n",
      " [-1490.20727202   944.46298616     0.        ]\n",
      " [-1490.20727202   944.46298616     0.        ]\n",
      " [-1490.20727202  -944.46298616     0.        ]\n",
      " [-1490.20727202  -944.46298616     0.        ]\n",
      " [-1191.76249077 -1309.18067718     0.        ]\n",
      " [ 1599.94670061  -968.90268928     0.        ]\n",
      " [ 1599.94670061  -968.90268928     0.        ]\n",
      " [ 1599.94670061  -968.90268928     0.        ]\n",
      " [ 1599.94670061  -968.90268928     0.        ]\n",
      " [ 1599.94670061  -968.90268928     0.        ]\n",
      " [ 1599.94670061  -968.90268928     0.        ]\n",
      " [-1599.94670061  -968.90268928     0.        ]\n",
      " [   44.57614114   -72.06131572     0.        ]\n",
      " [  -44.57614114   -72.06131572     0.        ]\n",
      " [   44.57614114   -72.06131572     0.        ]\n",
      " [  -44.57614114   -72.06131572     0.        ]\n",
      " [   44.57614114   -72.06131572     0.        ]\n",
      " [  904.00700097   676.59705834     0.        ]\n",
      " [ -904.00700097   676.59705834     0.        ]\n",
      " [  904.00700097  -676.59705834     0.        ]\n",
      " [   10.97913578  -521.56982739     0.        ]\n",
      " [   10.97913578   521.56982739     0.        ]\n",
      " [  -10.97913578   521.56982739     0.        ]\n",
      " [   10.97913578   521.56982739     0.        ]\n",
      " [  -10.97913578   521.56982739     0.        ]\n",
      " [   10.97913578   521.56982739     0.        ]\n",
      " [  -10.97913578   521.56982739     0.        ]\n",
      " [-1183.25297143  -139.22028729     0.        ]\n",
      " [-1183.25297143  -139.22028729     0.        ]\n",
      " [-1125.68648953   328.54843037     0.        ]\n",
      " [-1125.68648953   328.54843037     0.        ]\n",
      " [-1294.00131087  -806.24659563     0.        ]\n",
      " [-1423.84428146   274.56288746     0.        ]\n",
      " [-1423.84428146   274.56288746     0.        ]\n",
      " [-1423.84428146   274.56288746     0.        ]\n",
      " [  793.75288708  -249.11386377     0.        ]\n",
      " [  793.75288708  -249.11386377     0.        ]\n",
      " [  -93.86449785   291.41809742     0.        ]\n",
      " [  -93.86449785   291.41809742     0.        ]\n",
      " [  -93.86449785   291.41809742     0.        ]\n",
      " [  -93.86449785   291.41809742     0.        ]\n",
      " [  -93.86449785   291.41809742     0.        ]\n",
      " [  -93.86449785   291.41809742     0.        ]\n",
      " [  -93.86449785   291.41809742     0.        ]\n",
      " [  -93.86449785   291.41809742     0.        ]\n",
      " [  -93.86449785   291.41809742     0.        ]\n",
      " [ 1506.01185658  -677.98471781     0.        ]\n",
      " [ 1506.01185658  -677.98471781     0.        ]\n",
      " [ -386.93469047    -9.11554066     0.        ]\n",
      " [ -386.93469047    -9.11554066     0.        ]\n",
      " [  386.93469047    -9.11554066     0.        ]\n",
      " [  386.93469047    -9.11554066     0.        ]\n",
      " [  386.93469047    -9.11554066     0.        ]\n",
      " [  386.93469047    -9.11554066     0.        ]\n",
      " [  386.93469047    -9.11554066     0.        ]\n",
      " [  386.93469047    -9.11554066     0.        ]\n",
      " [  386.93469047    -9.11554066     0.        ]\n",
      " [  386.93469047    -9.11554066     0.        ]\n",
      " [  386.99902821    -7.47979615     0.        ]\n",
      " [  386.99902821    -7.47979615     0.        ]\n",
      " [ -197.96147635  -535.80754073     0.        ]\n",
      " [ -197.96147635  -535.80754073     0.        ]\n",
      " [  218.4980253   -198.74577463     0.        ]\n",
      " [  218.4980253   -198.74577463     0.        ]\n",
      " [  170.13858843   -77.33891078     0.        ]\n",
      " [ 1070.54381975   125.52801924     0.        ]\n",
      " [ 1070.54381975   125.52801924     0.        ]\n",
      " [-1070.54381975   125.52801924     0.        ]\n",
      " [-1070.54381975   125.52801924     0.        ]\n",
      " [-1070.54381975   125.52801924     0.        ]\n",
      " [-1070.54381975   125.52801924     0.        ]\n",
      " [-1070.54381975   125.52801924     0.        ]\n",
      " [-1061.83865624   162.74640066     0.        ]\n",
      " [-1061.83865624   162.74640066     0.        ]\n",
      " [-1081.98166975   111.21164668     0.        ]\n",
      " [-1081.98166975   111.21164668     0.        ]\n",
      " [-1081.98166975   111.21164668     0.        ]\n",
      " [-1081.98166975   111.21164668     0.        ]\n",
      " [ 1081.98166975   111.21164668     0.        ]\n",
      " [  903.14241746  -616.76526089     0.        ]\n",
      " [  903.14241746  -616.76526089     0.        ]\n",
      " [  903.14241746  -616.76526089     0.        ]\n",
      " [  903.14241746  -616.76526089     0.        ]\n",
      " [ 1394.28671847   258.28850238     0.        ]\n",
      " [ 1394.28671847   258.28850238     0.        ]\n",
      " [ 1394.28671847   258.28850238     0.        ]\n",
      " [ 1394.28671847   258.28850238     0.        ]\n",
      " [ 1394.28671847   258.28850238     0.        ]\n",
      " [-1124.93628389  -588.82241677     0.        ]\n",
      " [-1124.93628389  -588.82241677     0.        ]\n",
      " [-1124.93628389  -588.82241677     0.        ]\n",
      " [-1124.93628389  -588.82241677     0.        ]\n",
      " [-1124.93628389  -588.82241677     0.        ]\n",
      " [-1124.93628389  -588.82241677     0.        ]\n",
      " [  154.82235819   -22.38944225     0.        ]\n",
      " [  154.82235819   -22.38944225     0.        ]\n",
      " [  154.82235819   -22.38944225     0.        ]\n",
      " [  154.82235819   -22.38944225     0.        ]\n",
      " [  -12.56111206  -188.861542       0.        ]\n",
      " [  -12.56111206  -188.861542       0.        ]\n",
      " [  -12.56111206  -188.861542       0.        ]\n",
      " [  -12.56111206  -188.861542       0.        ]\n",
      " [  -12.56111206  -188.861542       0.        ]\n",
      " [  -12.56111206  -188.861542       0.        ]\n",
      " [  -12.56111206  -188.861542       0.        ]\n",
      " [  -12.56111206  -188.861542       0.        ]\n",
      " [  -12.56111206  -188.861542       0.        ]\n",
      " [  -12.56111206  -188.861542       0.        ]\n",
      " [  239.55505398  -100.3498566      0.        ]\n",
      " [  652.23957793  1820.67151086     0.        ]\n",
      " [  652.23957793 -1820.67151086     0.        ]\n",
      " [  652.23957793 -1820.67151086     0.        ]\n",
      " [  652.23957793 -1820.67151086     0.        ]\n",
      " [  538.81794639 -1879.14994368     0.        ]\n",
      " [  538.81794639 -1879.14994368     0.        ]\n",
      " [  538.81794639 -1879.14994368     0.        ]\n",
      " [  538.81794639  1879.14994368     0.        ]\n",
      " [  538.81794639  1879.14994368     0.        ]\n",
      " [  538.81794639  1879.14994368     0.        ]\n",
      " [  848.93075409  1897.75404672     0.        ]\n",
      " [ 1616.53736198  -139.37365951     0.        ]\n",
      " [   -2.94885482 -2766.37762315     0.        ]\n",
      " [    2.94885482  2766.37762315     0.        ]\n",
      " [    2.94885482  2766.37762315     0.        ]\n",
      " [ -748.08225081  2544.58355508     0.        ]\n",
      " [  748.08225081  2544.58355508     0.        ]\n",
      " [ 1662.76659221 -2430.03145616     0.        ]\n",
      " [-1662.76659221 -2430.03145616     0.        ]\n",
      " [ 1662.76659221 -2430.03145616     0.        ]\n",
      " [ 1662.76659221 -2430.03145616     0.        ]\n",
      " [ 1662.76659221 -2430.03145616     0.        ]\n",
      " [  737.38201671  1519.97979339     0.        ]\n",
      " [ -737.38201671  1519.97979339     0.        ]\n",
      " [ -737.38201671  1519.97979339     0.        ]\n",
      " [  746.23399258  -315.37254527     0.        ]\n",
      " [ -746.23399258  -315.37254527     0.        ]\n",
      " [  746.23399258  -315.37254527     0.        ]\n",
      " [ -746.23399258  -315.37254527     0.        ]\n",
      " [  746.23399258  -315.37254527     0.        ]\n",
      " [ -746.23399258  -315.37254527     0.        ]\n",
      " [  746.23399258  -315.37254527     0.        ]\n",
      " [ -770.11369048  -650.64751352     0.        ]\n",
      " [-2003.7749764   1362.65657033     0.        ]\n",
      " [-2003.7749764   1362.65657033     0.        ]\n",
      " [ 2003.7749764  -1362.65657033     0.        ]\n",
      " [  745.44017389 -1702.60636317     0.        ]\n",
      " [  745.44017389 -1702.60636317     0.        ]\n",
      " [ -745.44017389  1702.60636317     0.        ]\n",
      " [  745.44017389 -1702.60636317     0.        ]\n",
      " [  745.44017389 -1702.60636317     0.        ]\n",
      " [  745.44017389 -1702.60636317     0.        ]\n",
      " [  745.44017389 -1702.60636317     0.        ]\n",
      " [  745.44017389 -1702.60636317     0.        ]\n",
      " [  745.44017389 -1702.60636317     0.        ]\n",
      " [  745.44017389 -1702.60636317     0.        ]\n",
      " [  745.44017389 -1702.60636317     0.        ]\n",
      " [  745.44017389 -1702.60636317     0.        ]\n",
      " [  745.44017389 -1702.60636317     0.        ]\n",
      " [  745.44017389 -1702.60636317     0.        ]\n",
      " [  745.44017389 -1702.60636317     0.        ]\n",
      " [  745.44017389 -1702.60636317     0.        ]\n",
      " [  745.44017389 -1702.60636317     0.        ]\n",
      " [  745.44017389 -1702.60636317     0.        ]\n",
      " [  745.44017389 -1702.60636317     0.        ]\n",
      " [  745.44017389 -1702.60636317     0.        ]\n",
      " [  745.44017389 -1702.60636317     0.        ]\n",
      " [  745.44017389 -1702.60636317     0.        ]\n",
      " [  745.44017389 -1702.60636317     0.        ]\n",
      " [  745.44017389 -1702.60636317     0.        ]\n",
      " [  745.44017389 -1702.60636317     0.        ]\n",
      " [  745.44017389 -1702.60636317     0.        ]\n",
      " [  745.44017389 -1702.60636317     0.        ]\n",
      " [  745.44017389 -1702.60636317     0.        ]\n",
      " [  745.44017389 -1702.60636317     0.        ]\n",
      " [  745.44017389 -1702.60636317     0.        ]\n",
      " [  745.44017389 -1702.60636317     0.        ]\n",
      " [  745.44017389 -1702.60636317     0.        ]\n",
      " [  745.44017389 -1702.60636317     0.        ]\n",
      " [  745.44017389 -1702.60636317     0.        ]\n",
      " [  745.44017389 -1702.60636317     0.        ]\n",
      " [  745.44017389 -1702.60636317     0.        ]\n",
      " [  745.44017389 -1702.60636317     0.        ]\n",
      " [  745.44017389 -1702.60636317     0.        ]\n",
      " [  745.44017389 -1702.60636317     0.        ]\n",
      " [  745.44017389 -1702.60636317     0.        ]\n",
      " [  745.44017389 -1702.60636317     0.        ]\n",
      " [  745.44017389 -1702.60636317     0.        ]\n",
      " [  745.44017389 -1702.60636317     0.        ]\n",
      " [  745.44017389 -1702.60636317     0.        ]\n",
      " [  745.44017389 -1702.60636317     0.        ]\n",
      " [  745.44017389 -1702.60636317     0.        ]\n",
      " [  745.44017389 -1702.60636317     0.        ]\n",
      " [  745.44017389 -1702.60636317     0.        ]\n",
      " [  745.44017389 -1702.60636317     0.        ]\n",
      " [  745.44017389 -1702.60636317     0.        ]\n",
      " [  745.44017389 -1702.60636317     0.        ]\n",
      " [  745.44017389 -1702.60636317     0.        ]\n",
      " [  745.44017389 -1702.60636317     0.        ]\n",
      " [  745.44017389 -1702.60636317     0.        ]\n",
      " [  745.44017389 -1702.60636317     0.        ]\n",
      " [  745.44017389 -1702.60636317     0.        ]\n",
      " [  745.44017389 -1702.60636317     0.        ]\n",
      " [  745.44017389 -1702.60636317     0.        ]\n",
      " [  745.44017389 -1702.60636317     0.        ]\n",
      " [  745.44017389 -1702.60636317     0.        ]\n",
      " [  745.44017389 -1702.60636317     0.        ]\n",
      " [  745.44017389 -1702.60636317     0.        ]\n",
      " [  745.44017389 -1702.60636317     0.        ]\n",
      " [  745.44017389 -1702.60636317     0.        ]]\n",
      "[ 136.52323713 -384.73164089    0.        ]\n"
     ]
    }
   ],
   "source": [
    "v_array = targeted_particle[:, 1:]/np.expand_dims(targeted_particle[:,0], 1)\n",
    "vmoy = np.average(v_array, axis=0)\n",
    "print(rf\"La vitesse moyenne de la particule entre les collisions est $v_{moy}$={vmoy}\")\n",
    "print(\"La vitesse de la particule entre chaque paire de collisions est :\")\n",
    "print(v_array)"
   ]
  },
  {
   "cell_type": "markdown",
   "metadata": {
    "nteract": {
     "transient": {
      "deleting": false
     }
    }
   },
   "source": [
    "**VI.** _(5 points)_ &mdash; Pour cette même liste de vitesses, comparez les distributions de la norme $||\\vec{v}||$, du carré $v^2$ et d’une de ses composantes $v_x^2$ en étalonnant l’abscisse pour contraster les histogrammes avec une échelle appropriée. Indiquez sur ce graphique la moyenne, le mode, la médiane et la moyenne quadratique des distributions."
   ]
  },
  {
   "cell_type": "code",
   "execution_count": 180,
   "metadata": {
    "nteract": {
     "transient": {
      "deleting": false
     }
    }
   },
   "outputs": [
    {
     "name": "stdout",
     "output_type": "stream",
     "text": [
      "286\n"
     ]
    },
    {
     "data": {
      "image/png": "[encoded data removed]",
      "text/plain": [
       "<Figure size 1200x400 with 3 Axes>"
      ]
     },
     "metadata": {},
     "output_type": "display_data"
    }
   ],
   "source": [
    "import matplotlib.pyplot as plt\n",
    "print(len(v_norm))\n",
    "v_norm = np.linalg.norm(v_array, axis=1)\n",
    "v_norm_squared = v_norm**2\n",
    "v_x_squared = v_array[:, 0]**2\n",
    "fig, axes = plt.subplots(1, 3, figsize=(12, 4))\n",
    "values, bin_edges = np.histogram(v_norm, bins=10)\n",
    "axes[0].hist(v_norm, bins=10)\n",
    "axes[0].axvline(np.mean(v_norm), c=\"red\")\n",
    "axes[0].axvline(np.median(v_norm), c=\"black\")\n",
    "axes[0].axvline((bin_edges[np.argmax(values)]+bin_edges[np.argmax(values)+1])/2, c=\"orange\")\n",
    "axes[0].axvline(np.sqrt(np.mean(v_norm**2)), c=\"purple\")\n",
    "values, bin_edges = np.histogram(v_norm_squared, bins=10)\n",
    "axes[1].hist(v_norm_squared, bins=10)\n",
    "axes[1].axvline(np.mean(v_norm_squared), c=\"red\")\n",
    "axes[1].axvline(np.median(v_norm_squared), c=\"black\")\n",
    "axes[1].axvline((bin_edges[np.argmax(values)]+bin_edges[np.argmax(values)+1])/2, c=\"orange\")\n",
    "axes[1].axvline(np.sqrt(np.mean(v_norm_squared**2)), c=\"purple\")\n",
    "values, bin_edges = np.histogram(v_x_squared, bins=10)\n",
    "axes[2].hist(v_x_squared, bins=10)\n",
    "axes[2].axvline(np.mean(v_x_squared), c=\"red\")\n",
    "axes[2].axvline(np.median(v_x_squared), c=\"black\")\n",
    "axes[2].axvline((bin_edges[np.argmax(values)]+bin_edges[np.argmax(values)+1])/2, c=\"orange\")\n",
    "axes[2].axvline(np.sqrt(np.mean(v_x_squared**2)), c=\"purple\")\n",
    "plt.show()\n",
    "\n"
   ]
  },
  {
   "cell_type": "markdown",
   "metadata": {},
   "source": [
    "**Bonus.** _(4 points)_ &mdash; Montrez que \n",
    "- (a) le théorème central limite est satisfait par une des distributions de vitesse du numéro précédent,\n",
    "- (b) le système simulé est ergodique."
   ]
  },
  {
   "cell_type": "code",
   "execution_count": null,
   "metadata": {
    "nteract": {
     "transient": {
      "deleting": false
     }
    }
   },
   "outputs": [],
   "source": [
    "\n",
    "#"
   ]
  },
  {
   "cell_type": "markdown",
   "metadata": {
    "nteract": {
     "transient": {
      "deleting": false
     }
    }
   },
   "source": [
    "# Médiagraphie #\n",
    " - La simulation utilise la librairie <a href=\"https://vpython.org\">VPython</a> conçue pour la visualisation de physique en 3D, avec les instructions d’installation <a href=\"https://vpython.org/presentation2018/install.html\">ici</a> et la documentation <a href=\"https://www.glowscript.org/docs/VPythonDocs/index.html\">ici</a>. Le script fourni qui est exécuté dans ce _Notebook_ adapte en 2D et commente en détail l’exemple <a href=\"https://www.glowscript.org/#/user/GlowScriptDemos/folder/Examples/program/HardSphereGas-VPython\">HardSphereGas-VPython</a> du site interactif <a href=\"https://www.glowscript.org\">GlowScript</a> pour programmer des animations avec VPython directement en ligne.\n",
    " \n",
    "_**N.B. de débogage VPython:** Ayant plus codé en MATLAB qu'en Python jusqu'à maintenant, j'utilise Spyder qui offre une interface similaire, mais j'ai trouvé ce vidéo qui parle d'une <a href=\"https://www.youtube.com/watch?v=MJiVtz4Uj7M\">installation VS code</a> qui peut-être aider? N'hésitez pas à partager de meilleures alternatives que j'ajouterai ici. Vous pouvez aussi tenter l'installation <a href=\"https://jakevdp.github.io/blog/2017/12/05/installing-python-packages-from-jupyter/\">directement dans le Notebook</a>, mais au final chaque installation de distribution Python a son lot de <a href=\"https://xkcd.com/2347/\">défis avec les dépendances</a>. Si rien ne fonctionne, n'hésitez pas à contacter la sympathique communauté qui développe et utilise cette librairie VPython d'abord via leur <a href=\"https://groups.google.com/g/vpython-users\">groupe-forum</a>, puis leur <a href=\"https://github.com/vpython/vpython-jupyter\">site GitHub</a> de dépôt de développement. J'ai toujours eu de bonnes expériences d'interaction avec eux!_ \n",
    " "
   ]
  }
 ],
 "metadata": {
  "kernelspec": {
   "display_name": ".venv",
   "language": "python",
   "name": "python3"
  },
  "language_info": {
   "codemirror_mode": {
    "name": "ipython",
    "version": 3
   },
   "file_extension": ".py",
   "mimetype": "text/x-python",
   "name": "python",
   "nbconvert_exporter": "python",
   "pygments_lexer": "ipython3",
   "version": "3.13.0"
  }
 },
 "nbformat": 4,
 "nbformat_minor": 4
}
